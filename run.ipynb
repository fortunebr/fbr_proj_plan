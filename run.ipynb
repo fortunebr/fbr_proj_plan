{
 "cells": [
  {
   "cell_type": "code",
   "execution_count": 1,
   "metadata": {},
   "outputs": [],
   "source": [
    "from database.models import engine\n",
    "from sqlalchemy.orm import sessionmaker\n",
    "from database import models\n",
    "import sqlalchemy as sa\n",
    "import math\n",
    "import copy"
   ]
  },
  {
   "cell_type": "markdown",
   "metadata": {},
   "source": [
    "#### Mould Set object"
   ]
  },
  {
   "cell_type": "code",
   "execution_count": 2,
   "metadata": {},
   "outputs": [],
   "source": [
    "class Mould:\n",
    "    def __init__(self,mld_id:int,name:str,category:str,mld_type:str) -> None:\n",
    "        self.mld_id = mld_id\n",
    "        \"\"\"Mould's unique id\"\"\"\n",
    "        self.name = name\n",
    "        \"\"\"Mould name\"\"\"\n",
    "        self.category = category\n",
    "        \"\"\"Mould category\"\"\"\n",
    "        self.mld_type = mld_type \n",
    "        \"\"\"Mould type single/double\"\"\"\n",
    "        self.count = None \n",
    "        \"\"\"Size wise count from 1-13\"\"\"\n",
    "        self.running:list[int] = [0 for i in range(0,13)]\n",
    "        \"\"\"Active mould counts size wise 1-13\"\"\"\n",
    "  \n",
    "    def add_mld_count(self, size:int, qty:int):\n",
    "        \"\"\"Sets mould count of given size.\n",
    "        \n",
    "        Usable only on object initialization.\n",
    "        \"\"\"\n",
    "        if not self.count:\n",
    "            mould_qty = [0 for i in range(0,13)]\n",
    "        else:\n",
    "            mould_qty = list(self.count)\n",
    "\n",
    "        mould_qty[size-1] = qty\n",
    "        self.count = tuple(mould_qty)\n"
   ]
  },
  {
   "cell_type": "markdown",
   "metadata": {},
   "source": [
    "#### Plan object"
   ]
  },
  {
   "cell_type": "code",
   "execution_count": 3,
   "metadata": {},
   "outputs": [],
   "source": [
    "class Plan:\n",
    "\n",
    "    # Include mould object in attrbs\n",
    "    def __init__(self, mld_id:int, size:str, plan:int,pairs:int) -> None:\n",
    "        self.mld_id = mld_id\n",
    "        \"\"\"Respctive mould's unique id\"\"\"\n",
    "        self.size = size\n",
    "        \"\"\"Size matrix of the plan\"\"\"\n",
    "        self.plan = plan\n",
    "        \"\"\"Planned qty in case\"\"\"\n",
    "        self.pairs = pairs\n",
    "        \"\"\"Total pairs in a case\"\"\"\n",
    "        self.pack_qty = None \n",
    "        \"\"\"Size wise packing order\"\"\"\n",
    "        self.mould:Mould = None\n",
    "        \"\"\"Mould object of the plan\"\"\"\n",
    "        self.pending_qty = 0\n",
    "        \"\"\"Pending qty (in max pairs of plan)\"\"\"\n",
    "        self.is_completed = False # ToDo: Not required as of now\n",
    "        self.is_running = False # Fix: All plans under active stage is running\n",
    "\n",
    "    @property\n",
    "    def target_qty(self):\n",
    "        \"\"\"Maximum rotations required as per single mould\"\"\"\n",
    "        return max(self.pack_qty) * self.plan\n",
    "\n",
    "    @property\n",
    "    def is_mould_available(self):\n",
    "        \"\"\"Checks to see if mould is available or not\"\"\"\n",
    "        for i in range(0,13):\n",
    "            mld_req = 1 if self.pack_qty[i] != 0 else 0\n",
    "            availability = self.mould.count[i] - mld_req - self.mould.running[i]\n",
    "            if availability < 0:\n",
    "                return False\n",
    "        return True\n",
    "\n",
    "    @property\n",
    "    def is_available(self):\n",
    "        \"\"\"Plans that are available for production\"\"\"\n",
    "        return (not (self.is_running & self.is_completed)) & self.is_mould_available\n",
    "\n",
    "    @property\n",
    "    def mld_count(self):\n",
    "        \"\"\"Total moulds required for the plan\"\"\"\n",
    "        return sum(1 for q in self.pack_qty if q != 0)\n",
    "\n",
    "    @property\n",
    "    def mld_space(self):\n",
    "        \"\"\"Total mould space required for the plan\"\"\"\n",
    "        max_qty = max(self.pack_qty)\n",
    "        space = sum(q / max_qty for q in self.pack_qty)\n",
    "        fraction = space % 1\n",
    "        if fraction > 0 and fraction <=0.5:\n",
    "            return math.trunc(space) + 0.5\n",
    "        elif fraction > 0.5:\n",
    "            return math.trunc(space) + 1\n",
    "        return space\n",
    "        \n",
    "    def add_size_qty(self, size, qty):\n",
    "        \"\"\"Add size wise plan qty\"\"\"\n",
    "        if not self.pack_qty:\n",
    "            pck_qty = [0 for i in range(0, 13)]\n",
    "        else:\n",
    "            pck_qty = list(self.pack_qty)\n",
    "        pck_qty[size-1] = qty\n",
    "        self.pack_qty = tuple(pck_qty)\n",
    "        self.pending_qty = self.target_qty"
   ]
  },
  {
   "cell_type": "markdown",
   "metadata": {},
   "source": [
    "#### Stage object"
   ]
  },
  {
   "cell_type": "code",
   "execution_count": 4,
   "metadata": {},
   "outputs": [],
   "source": [
    "class Stage:\n",
    "    def __init__(self, idx:int) -> None:\n",
    "        self.idx = idx\n",
    "        \"\"\"Stage id\"\"\"\n",
    "        self.plans:list[Plan] = []\n",
    "        \"\"\"Plans ran together\"\"\"\n",
    "        self.rotations = 0\n",
    "        \"\"\"Min rotations of a plan\"\"\"\n",
    "\n",
    "    @property\n",
    "    def mld_space_occupied(self):\n",
    "        \"\"\"Total mould space occupied in the machine\"\"\"\n",
    "        return sum(p.mld_space for p in self.plans)\n",
    "    # This calculation can be performed when stage changes as well\n",
    "    @property    \n",
    "    def stage_rotations(self):\n",
    "        \"\"\"Rotations required to finish the stage\"\"\"\n",
    "        # return min(max(p.qty) for p in self.plans)\n",
    "        return min(p.pending_qty for p in self.plans)\n",
    "    \n",
    "\n",
    "    def unfinished_plans(self) -> tuple:\n",
    "        \"\"\"Update plan qty for next stage and returns unfinished plans.\n",
    "\n",
    "        Reset low qty plan to zero and update incomplete plan's qty.\n",
    "\n",
    "        \"\"\"\n",
    "        \n",
    "        pending_plans = []\n",
    "        lowest_qty = self.stage_rotations\n",
    "        for p in copy.deepcopy(self.plans):\n",
    "            if lowest_qty != p.pending_qty:\n",
    "                p.pending_qty -= lowest_qty\n",
    "                pending_plans.append(p)\n",
    "            else:\n",
    "                # p.pending_qty = 0 # No use, hence it is deepcopy\n",
    "                # p.is_completed = True\n",
    "                # # Free up mould allocated\n",
    "                for i, q in enumerate(p.pack_qty):\n",
    "                    if q > 0:\n",
    "                        moulds[p.mould.mld_id].running[i] -= 1\n",
    "        return tuple(pending_plans)"
   ]
  },
  {
   "cell_type": "markdown",
   "metadata": {},
   "source": [
    "#### Machine object"
   ]
  },
  {
   "cell_type": "code",
   "execution_count": 5,
   "metadata": {},
   "outputs": [],
   "source": [
    "     \n",
    "class Machine:\n",
    "    def __init__(self, capacity:int, rotation_time:int) -> None:\n",
    "        self.capacity = capacity\n",
    "        \"\"\"Total mould capacity in the machine in pairs\"\"\"\n",
    "        self.rotation_time = rotation_time\n",
    "        \"\"\"Time required for 1 rotation\"\"\"\n",
    "        self._rotations = 0\n",
    "        \"\"\"Total rotations\"\"\"\n",
    "        self._change_count = 0\n",
    "        \"\"\"Plan change count\"\"\"\n",
    "        self.active_stage:Stage = Stage(1)\n",
    "        \"\"\"Active stage\"\"\"\n",
    "        self.stages:list[Stage] = []\n",
    "        \"\"\"Stages completed on the machine\"\"\"\n",
    "\n",
    "    @property\n",
    "    def used_space(self):\n",
    "        \"\"\"Used mould space in the machine\"\"\"\n",
    "        return sum(p.mld_space for p in self.active_stage.plans)\n",
    "\n",
    "    @property\n",
    "    def rotations(self) -> int:\n",
    "        \"\"\"Total rotations completed by machine.\"\"\"\n",
    "        return self._rotations\n",
    "\n",
    "    @property\n",
    "    def add_change_count(self):\n",
    "        # Fix: Available from number of stages\n",
    "        self._change_count += 1\n",
    "    \n",
    "    def add_plan(self, plan:Plan):\n",
    "        \"\"\"Add plan to stage\"\"\"\n",
    "        if self.active_stage:\n",
    "            self.active_stage.plans.append(plan)\n",
    "            # Allocate mould\n",
    "            for i, q in enumerate(plan.pack_qty):\n",
    "                if q > 0:\n",
    "                    plan.mould.running[i] += 1\n",
    "\n",
    "    def change_stage(self):\n",
    "        \"\"\"Remove finished plan from stage\"\"\"\n",
    "        new_idx = self.active_stage.idx + 1\n",
    "        self.stages.append(self.active_stage)\n",
    "        unfinished_plans = self.active_stage.unfinished_plans()\n",
    "        self._rotations += self.active_stage.stage_rotations\n",
    "        self.active_stage = Stage(new_idx)\n",
    "        self.active_stage.plans.extend(unfinished_plans)"
   ]
  },
  {
   "cell_type": "code",
   "execution_count": 6,
   "metadata": {},
   "outputs": [],
   "source": [
    "Session = sessionmaker(bind=engine)"
   ]
  },
  {
   "cell_type": "markdown",
   "metadata": {},
   "source": [
    "### Initializing mould objects with data from SQL Server\n",
    "* All moulds will be initialized\n",
    "* A `dict` object will be build with keys as mould_set id and value as mould object"
   ]
  },
  {
   "cell_type": "code",
   "execution_count": 7,
   "metadata": {},
   "outputs": [],
   "source": [
    "results = None\n",
    "with Session() as s:\n",
    "    results = (\n",
    "        s.query(models.MouldSet.id, models.MouldModel.mould_no, models.Category.name, models.MouldSet.mould_type, models.Mould.size, models.Mould.quantity)\n",
    "        .select_from(models.MouldSet)\n",
    "        .join(models.MouldModel)\n",
    "        .join(models.Mould)\n",
    "        .join(models.Category)\n",
    "        .order_by(models.MouldSet.id)\n",
    "        .all()\n",
    "    )"
   ]
  },
  {
   "cell_type": "code",
   "execution_count": 8,
   "metadata": {},
   "outputs": [],
   "source": [
    "moulds:dict[int,Mould] = {}\n",
    "for mld in results:\n",
    "    size, qty = mld[-2:]\n",
    "    if mld[0] not in moulds.keys():\n",
    "        moulds[mld[0]] = Mould(mld_id=mld[0], name=mld[1], category=mld[2], mld_type=mld[3])\n",
    "    moulds[mld[0]].add_mld_count(size, qty)\n"
   ]
  },
  {
   "cell_type": "markdown",
   "metadata": {},
   "source": [
    "### Initializing plan objects with data from SQL Server\n",
    "* All plans will be initialized with plans combined with respect to mould sets separated by size rather than article wise\n",
    "* A `dict` object will be build with keys as mould_set id, size and pairs and value as plan object"
   ]
  },
  {
   "cell_type": "code",
   "execution_count": 9,
   "metadata": {},
   "outputs": [],
   "source": [
    "results = None\n",
    "with Session() as s:\n",
    "    results = (\n",
    "        s.query(models.MouldSet.id, models.PlanCurrent.size, models.PlanCurrent.pairs, models.PackingOrder.size,\n",
    "            sa.func.sum(models.PlanCurrent.plan).label(\"plan\"), sa.func.avg(models.PackingOrder.quantity))\n",
    "        .select_from(models.Article)\n",
    "        .join(models.ArticleModel, models.ArticleModel.id == models.Article.article)\n",
    "        .join(models.Category, models.Category.id == models.Article.category)\n",
    "        .join(models.Color, models.Color.id == models.Article.color)\n",
    "        .join(models.MouldSet, models.MouldSet.id == models.Article.mould)\n",
    "        .join(models.PlanCurrent, ((models.PlanCurrent.art_no==models.ArticleModel.art_no)\n",
    "            & (models.PlanCurrent.color==models.Color.name)\n",
    "            & (models.PlanCurrent.category==models.Category.name)))\n",
    "        .join(models.PackingStyle, ((models.PackingStyle.category==models.Category.id)\n",
    "            & (models.PackingStyle.size_matrix == models.PlanCurrent.size)\n",
    "            & (models.PackingStyle.pairs == models.PlanCurrent.pairs)))\n",
    "        .join(models.PackingOrder, models.PackingOrder.packing==models.PackingStyle.id)\n",
    "        .where(models.PackingOrder.quantity != 0)\n",
    "        .group_by(models.MouldSet.id, models.PlanCurrent.size, models.PlanCurrent.pairs, models.PackingOrder.size)\n",
    "        .order_by(sa.desc(\"plan\"), models.MouldSet.id, models.PlanCurrent.size, models.PlanCurrent.pairs, models.PackingOrder.size)\n",
    "        .all()\n",
    "    )"
   ]
  },
  {
   "cell_type": "code",
   "execution_count": 10,
   "metadata": {},
   "outputs": [],
   "source": [
    "plans : dict[int, Plan] = {}\n",
    "for p in results:\n",
    "    key = \"{0}#{1}#{2}\".format(*p[:3])\n",
    "    if not key in plans.keys():\n",
    "        plans[key] = Plan(p[0],p[1],p[4],p[2])\n",
    "        plans[key].mould = moulds[p[0]]\n",
    "    plans[key].add_size_qty(p[3], p[5]) \n",
    "\n",
    "    "
   ]
  },
  {
   "cell_type": "markdown",
   "metadata": {},
   "source": [
    "Initializing machine object with `30 stations` and `4 min` rotation time"
   ]
  },
  {
   "cell_type": "code",
   "execution_count": 11,
   "metadata": {},
   "outputs": [],
   "source": [
    "m1 = Machine(30,4)"
   ]
  },
  {
   "cell_type": "markdown",
   "metadata": {},
   "source": [
    "### Logical execution of planning"
   ]
  },
  {
   "cell_type": "code",
   "execution_count": 12,
   "metadata": {},
   "outputs": [],
   "source": [
    "while plans:\n",
    "    selected_plan = next((p for p in plans.values() if p.is_available),None)\n",
    "    # selected_plan = list(plans.values())[0]\n",
    "    if selected_plan and (selected_plan.mld_space + m1.used_space) > m1.capacity:\n",
    "        selected_plan = None\n",
    "        if m1.used_space > (m1.capacity-3) and m1.used_space <=(m1.capacity-2):\n",
    "            # Possibility for 2 mould spaced XL article plans\n",
    "            selected_plan = next((p for p in plans.values() if p.mld_space == 2 and p.is_available), None)\n",
    "\n",
    "        elif m1.used_space > (m1.capacity-4) and m1.used_space <=(m1.capacity-3):\n",
    "            # Possibility for 3 mould spaced articles\n",
    "            selected_plan = next((p for p in plans.values() if p.mld_space == 3 and p.is_available), None)\n",
    "            if not selected_plan:\n",
    "                # Take 2 mould space no 3 space plans available\n",
    "                selected_plan = next((p for p in plans.values() if p.mld_space == 2 and p.is_available), None)\n",
    "            \n",
    "        elif m1.used_space > (m1.capacity-5) and m1.used_space <= (m1.capacity-4):\n",
    "            # Possibility for 4 mould spaced articles\n",
    "            selected_plan = next((p for p in plans.values() if p.mld_space == 4 and p.is_available), None)\n",
    "            if not selected_plan:\n",
    "                # Take 3 mould space no 4 space plans available\n",
    "                selected_plan = next((p for p in plans.values() if p.mld_space == 3 and p.is_available), None)\n",
    "                if not selected_plan:\n",
    "                    # Take 2 mould space no 3 space plans available\n",
    "                    selected_plan = next((p for p in plans.values() if p.mld_space == 2 and p.is_available), None)\n",
    "\n",
    "    if selected_plan:\n",
    "        # Remove the selected plan from the plan's list\n",
    "        remove_item_key = f\"{selected_plan.mld_id}#{selected_plan.size}#{selected_plan.pairs}\"\n",
    "        plans.pop(remove_item_key)\n",
    "        m1.add_plan(selected_plan)\n",
    "    else:\n",
    "        if not m1.active_stage.plans:\n",
    "            break\n",
    "        m1.change_stage()\n"
   ]
  },
  {
   "cell_type": "code",
   "execution_count": 13,
   "metadata": {},
   "outputs": [
    {
     "name": "stdout",
     "output_type": "stream",
     "text": [
      "Total Rotations: 9019\n",
      "Total days to finish: 25.052777777777777\n"
     ]
    }
   ],
   "source": [
    "# Summary\n",
    "print(\"Total Rotations: %s\" % m1.rotations) # Fix: Active stage rotations to be added to\n",
    "print(\"Total days to finish: %s\" %(m1.rotations * 4 / 60 / 24))"
   ]
  },
  {
   "cell_type": "code",
   "execution_count": 14,
   "metadata": {},
   "outputs": [
    {
     "data": {
      "text/plain": [
       "{}"
      ]
     },
     "execution_count": 14,
     "metadata": {},
     "output_type": "execute_result"
    }
   ],
   "source": [
    "# Check if any plans left in plans dict (empty anyway)\n",
    "plans"
   ]
  },
  {
   "cell_type": "code",
   "execution_count": 15,
   "metadata": {},
   "outputs": [],
   "source": [
    "# Writing to a csv file report\n",
    "with open(f\"sample.csv\", \"w+\") as f:\n",
    "    f.write(\"id,occupied,mould,category,size,plan,mould space,mould count,target qty, pending qty\")\n",
    "    for s in m1.stages:\n",
    "        for p in s.plans:\n",
    "            f.write(\"\\n{},{},{},{},{},{},{},{},{},{}\".format(s.idx, s.mld_space_occupied,p.mould.name,p.mould.category,p.size, p.plan, p.mld_space,p.mld_count,p.target_qty,p.pending_qty))\n",
    "    for p in m1.active_stage.plans:\n",
    "        s = m1.active_stage\n",
    "        f.write(\"\\n{},{},{},{},{},{},{},{},{},{}\".format(s.idx, s.mld_space_occupied,p.mould.name,p.mould.category,p.size, p.plan, p.mld_space,p.mld_count,p.target_qty,p.pending_qty))"
   ]
  },
  {
   "cell_type": "markdown",
   "metadata": {},
   "source": [
    "#### ToDo's\n",
    "* Priority to moulds with so many different plans\n",
    "    * Try to filter in begging\n",
    "    * Move the plans in the last stages with capacity filled lesser than 24 to begining and re-calculate\n",
    "    * Other methods\n",
    "* Prepare graphs\n",
    "    * Stage id vs Capacity\n",
    "    * Stage id vs Rotations\n",
    "    * Others\n",
    "* Machine split-up   #hold_until_need\n",
    "* Sole color split-up   #hold_until_need"
   ]
  },
  {
   "cell_type": "code",
   "execution_count": null,
   "metadata": {},
   "outputs": [],
   "source": []
  },
  {
   "cell_type": "code",
   "execution_count": null,
   "metadata": {},
   "outputs": [],
   "source": []
  }
 ],
 "metadata": {
  "interpreter": {
   "hash": "ff6bbc2de355bf4109cb4f7cfb2bb59ee3dee5331599ad2af54e1675299848d4"
  },
  "kernelspec": {
   "display_name": "Python 3.10.1 64-bit ('env': venv)",
   "language": "python",
   "name": "python3"
  },
  "language_info": {
   "codemirror_mode": {
    "name": "ipython",
    "version": 3
   },
   "file_extension": ".py",
   "mimetype": "text/x-python",
   "name": "python",
   "nbconvert_exporter": "python",
   "pygments_lexer": "ipython3",
   "version": "3.10.1"
  },
  "orig_nbformat": 4
 },
 "nbformat": 4,
 "nbformat_minor": 2
}
